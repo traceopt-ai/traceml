{
 "cells": [
  {
   "metadata": {},
   "cell_type": "code",
   "outputs": [],
   "execution_count": null,
   "source": "!pip install traceml-ai==0.1.1",
   "id": "a47e91de4bd57f54"
  },
  {
   "cell_type": "code",
   "id": "initial_id",
   "metadata": {
    "collapsed": true,
    "ExecuteTime": {
     "end_time": "2025-10-01T11:27:52.834074Z",
     "start_time": "2025-10-01T11:27:46.120134Z"
    }
   },
   "source": [
    "import random\n",
    "import math\n",
    "\n",
    "import torch\n",
    "from torch.utils.data import DataLoader\n",
    "from torch.optim import AdamW\n",
    "\n",
    "from datasets import load_dataset\n",
    "from transformers import (\n",
    "    AutoTokenizer,\n",
    "    AutoModelForSequenceClassification,\n",
    "    DataCollatorWithPadding,\n",
    "    get_linear_schedule_with_warmup,\n",
    ")\n",
    "\n",
    "# TraceML imports\n",
    "from traceml.decorator import trace_model_instance\n",
    "from traceml.manager.tracker_manager import TrackerManager"
   ],
   "outputs": [],
   "execution_count": 1
  },
  {
   "metadata": {
    "ExecuteTime": {
     "end_time": "2025-10-01T11:27:52.845323Z",
     "start_time": "2025-10-01T11:27:52.840636Z"
    }
   },
   "cell_type": "code",
   "source": [
    "SEED = 42\n",
    "MODEL_NAME = \"distilbert-base-uncased\"\n",
    "MAX_TRAIN_EXAMPLES = 500\n",
    "MAX_VAL_EXAMPLES = 100\n",
    "BATCH_SIZE = 32\n",
    "EPOCHS = 1\n",
    "LR = 2e-5\n",
    "WARMUP_RATIO = 0.06\n"
   ],
   "id": "be4b1d514b0e41df",
   "outputs": [],
   "execution_count": 2
  },
  {
   "metadata": {
    "ExecuteTime": {
     "end_time": "2025-10-01T11:27:52.857996Z",
     "start_time": "2025-10-01T11:27:52.851052Z"
    }
   },
   "cell_type": "code",
   "source": [
    "def set_seed(seed: int = SEED):\n",
    "    random.seed(seed)\n",
    "    torch.manual_seed(seed)\n",
    "    torch.cuda.manual_seed_all(seed)\n",
    "\n",
    "\n",
    "def accuracy_from_logits(logits: torch.Tensor, labels: torch.Tensor) -> float:\n",
    "    preds = torch.argmax(logits, dim=-1)\n",
    "    correct = (preds == labels).sum().item()\n",
    "    return correct / max(1, labels.size(0))\n",
    "\n",
    "\n",
    "def prepare_data():\n",
    "    raw = load_dataset(\"ag_news\")\n",
    "    train_raw = raw[\"train\"].select(range(min(MAX_TRAIN_EXAMPLES, len(raw[\"train\"]))))\n",
    "    val_raw = raw[\"test\"].select(range(min(MAX_VAL_EXAMPLES, len(raw[\"test\"]))))\n",
    "\n",
    "    tokenizer = AutoTokenizer.from_pretrained(MODEL_NAME)\n",
    "\n",
    "    def tok(examples):\n",
    "        return tokenizer(examples[\"text\"], truncation=True)\n",
    "\n",
    "    train_ds = train_raw.map(tok, batched=True, remove_columns=[\"text\"])\n",
    "    val_ds = val_raw.map(tok, batched=True, remove_columns=[\"text\"])\n",
    "\n",
    "    train_ds = train_ds.rename_column(\"label\", \"labels\")\n",
    "    val_ds = val_ds.rename_column(\"label\", \"labels\")\n",
    "\n",
    "    collator = DataCollatorWithPadding(tokenizer=tokenizer, padding=\"longest\")\n",
    "\n",
    "    train_loader = DataLoader(\n",
    "        train_ds, batch_size=BATCH_SIZE, shuffle=True, collate_fn=collator\n",
    "    )\n",
    "    val_loader = DataLoader(\n",
    "        val_ds, batch_size=BATCH_SIZE, shuffle=False, collate_fn=collator\n",
    "    )\n",
    "    return tokenizer, train_loader, val_loader\n"
   ],
   "id": "74fd9dc30cce89a6",
   "outputs": [],
   "execution_count": 3
  },
  {
   "metadata": {
    "ExecuteTime": {
     "end_time": "2025-10-01T11:27:52.870096Z",
     "start_time": "2025-10-01T11:27:52.862259Z"
    }
   },
   "cell_type": "code",
   "source": [
    "def train_model(\n",
    "    model,\n",
    "    train_loader,\n",
    "    val_loader,\n",
    "    optimizer,\n",
    "    scheduler,\n",
    "    scaler,\n",
    "    device,\n",
    "    dtype,\n",
    "    epochs: int = 1\n",
    "):\n",
    "    \"\"\"\n",
    "    Train and validate a model.\n",
    "\n",
    "    Args:\n",
    "        model: torch.nn.Module\n",
    "        train_loader: DataLoader for training\n",
    "        val_loader: DataLoader for validation\n",
    "        optimizer: torch optimizer\n",
    "        scheduler: learning rate scheduler\n",
    "        scaler: GradScaler for mixed precision\n",
    "        device: torch.device (\"cpu\" or \"cuda\")\n",
    "        dtype: torch dtype (torch.float16 or torch.float32)\n",
    "        epochs: number of training epochs\n",
    "    \"\"\"\n",
    "    model.train()\n",
    "    global_step = 0\n",
    "\n",
    "    for epoch in range(epochs):\n",
    "        running_loss = 0.0\n",
    "        running_acc = 0.0\n",
    "\n",
    "        for batch in train_loader:\n",
    "            batch = {k: v.to(device) for k, v in batch.items()}\n",
    "\n",
    "            optimizer.zero_grad(set_to_none=True)\n",
    "            with torch.cuda.amp.autocast(enabled=torch.cuda.is_available(), dtype=dtype):\n",
    "                out = model(**batch)\n",
    "                loss = out.loss\n",
    "                logits = out.logits\n",
    "\n",
    "            scaler.scale(loss).backward()\n",
    "            scaler.step(optimizer)\n",
    "            scaler.update()\n",
    "            scheduler.step()\n",
    "\n",
    "            acc = accuracy_from_logits(logits.detach(), batch[\"labels\"])\n",
    "            running_loss += loss.item()\n",
    "            running_acc += acc\n",
    "            global_step += 1\n",
    "\n",
    "        # Validation\n",
    "        model.eval()\n",
    "        val_loss, val_acc, n_batches = 0.0, 0.0, 0\n",
    "        with torch.no_grad():\n",
    "            for batch in val_loader:\n",
    "                batch = {k: v.to(device) for k, v in batch.items()}\n",
    "                with torch.cuda.amp.autocast(enabled=torch.cuda.is_available(), dtype=dtype):\n",
    "                    out = model(**batch)\n",
    "                    loss = out.loss\n",
    "                    logits = out.logits\n",
    "                val_loss += loss.item()\n",
    "                val_acc += accuracy_from_logits(logits, batch[\"labels\"])\n",
    "                n_batches += 1\n",
    "\n",
    "        model.train()"
   ],
   "id": "961fd77494d33752",
   "outputs": [],
   "execution_count": 4
  },
  {
   "metadata": {
    "ExecuteTime": {
     "end_time": "2025-10-01T11:29:56.979103Z",
     "start_time": "2025-10-01T11:27:52.875899Z"
    }
   },
   "cell_type": "code",
   "source": [
    "set_seed()\n",
    "device = torch.device(\"cuda\" if torch.cuda.is_available() else \"cpu\")\n",
    "dtype = torch.float16 if torch.cuda.is_available() else torch.float32\n",
    "\n",
    "tokenizer, train_loader, val_loader = prepare_data()\n",
    "\n",
    "model = AutoModelForSequenceClassification.from_pretrained(\n",
    "    MODEL_NAME, num_labels=4\n",
    ").to(device)\n",
    "\n",
    "# Attach TraceML hooks\n",
    "trace_model_instance(\n",
    "    model,\n",
    "    sample_layer_memory=True,\n",
    "    trace_activations=True,\n",
    "    trace_gradients=True,\n",
    ")\n",
    "\n",
    "optimizer = AdamW(model.parameters(), lr=LR)\n",
    "total_steps = EPOCHS * math.ceil(len(train_loader))\n",
    "warmup_steps = int(WARMUP_RATIO * total_steps)\n",
    "scheduler = get_linear_schedule_with_warmup(\n",
    "    optimizer, num_warmup_steps=warmup_steps, num_training_steps=total_steps\n",
    ")\n",
    "\n",
    "scaler = torch.cuda.amp.GradScaler(enabled=torch.cuda.is_available())\n",
    "\n",
    "tracker = TrackerManager(interval_sec=1.0, mode='notebook')\n",
    "tracker.start()\n",
    "train_model(model, train_loader, val_loader, optimizer, scheduler, scaler, device, dtype)\n",
    "tracker.stop()\n",
    "tracker.log_summaries()\n"
   ],
   "id": "7ffaa5a1d877746e",
   "outputs": [
    {
     "name": "stderr",
     "output_type": "stream",
     "text": [
      "Some weights of DistilBertForSequenceClassification were not initialized from the model checkpoint at distilbert-base-uncased and are newly initialized: ['classifier.bias', 'classifier.weight', 'pre_classifier.bias', 'pre_classifier.weight']\n",
      "You should probably TRAIN this model on a down-stream task to be able to use it for predictions and inference.\n",
      "/var/folders/xn/64_d8wlj1sgbfl7wf19vt0b40000gn/T/ipykernel_87902/2831651729.py:26: FutureWarning: `torch.cuda.amp.GradScaler(args...)` is deprecated. Please use `torch.amp.GradScaler('cuda', args...)` instead.\n",
      "  scaler = torch.cuda.amp.GradScaler(enabled=torch.cuda.is_available())\n",
      "[13:27:57] ERROR traceml.SystemSampler: [TraceML] WARNING: GPU not available: NVML Shared Library Not Found\n"
     ]
    },
    {
     "data": {
      "text/plain": [
       "VBox()"
      ],
      "application/vnd.jupyter.widget-view+json": {
       "version_major": 2,
       "version_minor": 0,
       "model_id": "48faba88f42b4eb697bb107c14c21742"
      }
     },
     "metadata": {},
     "output_type": "display_data"
    },
    {
     "name": "stderr",
     "output_type": "stream",
     "text": [
      "/var/folders/xn/64_d8wlj1sgbfl7wf19vt0b40000gn/T/ipykernel_87902/1141273735.py:37: FutureWarning: `torch.cuda.amp.autocast(args...)` is deprecated. Please use `torch.amp.autocast('cuda', args...)` instead.\n",
      "  with torch.cuda.amp.autocast(enabled=torch.cuda.is_available(), dtype=dtype):\n",
      "/var/folders/xn/64_d8wlj1sgbfl7wf19vt0b40000gn/T/ipykernel_87902/1141273735.py:42: UserWarning: Full backward hook is firing when gradients are computed with respect to module outputs since no inputs require gradients. See https://docs.pytorch.org/docs/main/generated/torch.nn.Module.html#torch.nn.Module.register_full_backward_hook for more details.\n",
      "  scaler.scale(loss).backward()\n",
      "/var/folders/xn/64_d8wlj1sgbfl7wf19vt0b40000gn/T/ipykernel_87902/1141273735.py:58: FutureWarning: `torch.cuda.amp.autocast(args...)` is deprecated. Please use `torch.amp.autocast('cuda', args...)` instead.\n",
      "  with torch.cuda.amp.autocast(enabled=torch.cuda.is_available(), dtype=dtype):\n"
     ]
    },
    {
     "data": {
      "text/plain": [
       "\u001B[36m╭─\u001B[0m\u001B[36m──────────────────────────────────────────────\u001B[0m\u001B[36m \u001B[0m\u001B[1;36mSystem - Summary\u001B[0m\u001B[36m \u001B[0m\u001B[36m───────────────────────────────────────────────\u001B[0m\u001B[36m─╮\u001B[0m\n",
       "\u001B[36m│\u001B[0m \u001B[36mTOTAL SYSTEM SAMPLES\u001B[0m\u001B[36m \u001B[0m\u001B[2;36m|\u001B[0m\u001B[2m \u001B[0m\u001B[37m                      119\u001B[0m                                                                \u001B[36m│\u001B[0m\n",
       "\u001B[36m│\u001B[0m \u001B[36mCPU AVERAGE         \u001B[0m\u001B[36m \u001B[0m\u001B[2;36m|\u001B[0m\u001B[2m \u001B[0m\u001B[37m        97.1% of 10 cores\u001B[0m                                                                \u001B[36m│\u001B[0m\n",
       "\u001B[36m│\u001B[0m \u001B[36mCPU PEAK            \u001B[0m\u001B[36m \u001B[0m\u001B[2;36m|\u001B[0m\u001B[2m \u001B[0m\u001B[37m        99.8% of 10 cores\u001B[0m                                                                \u001B[36m│\u001B[0m\n",
       "\u001B[36m│\u001B[0m \u001B[36mRAM AVERAGE         \u001B[0m\u001B[36m \u001B[0m\u001B[2;36m|\u001B[0m\u001B[2m \u001B[0m\u001B[37m8.50 GB / 24.0 GB (35.4%)\u001B[0m                                                                \u001B[36m│\u001B[0m\n",
       "\u001B[36m│\u001B[0m \u001B[36mRAM PEAK            \u001B[0m\u001B[36m \u001B[0m\u001B[2;36m|\u001B[0m\u001B[2m \u001B[0m\u001B[37m9.70 GB / 24.0 GB (40.4%)\u001B[0m                                                                \u001B[36m│\u001B[0m\n",
       "\u001B[36m│\u001B[0m \u001B[36mGPU                 \u001B[0m\u001B[36m \u001B[0m\u001B[2;36m|\u001B[0m\u001B[2m \u001B[0m\u001B[37m            \u001B[0m\u001B[31mNot available\u001B[0m                                                                \u001B[36m│\u001B[0m\n",
       "\u001B[36m╰─────────────────────────────────────────────────────────────────────────────────────────────────────────────────╯\u001B[0m\n"
      ],
      "text/html": [
       "<pre style=\"white-space:pre;overflow-x:auto;line-height:normal;font-family:Menlo,'DejaVu Sans Mono',consolas,'Courier New',monospace\"><span style=\"color: #008080; text-decoration-color: #008080\">╭─────────────────────────────────────────────── </span><span style=\"color: #008080; text-decoration-color: #008080; font-weight: bold\">System - Summary</span><span style=\"color: #008080; text-decoration-color: #008080\"> ────────────────────────────────────────────────╮</span>\n",
       "<span style=\"color: #008080; text-decoration-color: #008080\">│</span> <span style=\"color: #008080; text-decoration-color: #008080\">TOTAL SYSTEM SAMPLES </span><span style=\"color: #7fbfbf; text-decoration-color: #7fbfbf\">|</span><span style=\"color: #7f7f7f; text-decoration-color: #7f7f7f\"> </span><span style=\"color: #c0c0c0; text-decoration-color: #c0c0c0\">                      119</span>                                                                <span style=\"color: #008080; text-decoration-color: #008080\">│</span>\n",
       "<span style=\"color: #008080; text-decoration-color: #008080\">│</span> <span style=\"color: #008080; text-decoration-color: #008080\">CPU AVERAGE          </span><span style=\"color: #7fbfbf; text-decoration-color: #7fbfbf\">|</span><span style=\"color: #7f7f7f; text-decoration-color: #7f7f7f\"> </span><span style=\"color: #c0c0c0; text-decoration-color: #c0c0c0\">        97.1% of 10 cores</span>                                                                <span style=\"color: #008080; text-decoration-color: #008080\">│</span>\n",
       "<span style=\"color: #008080; text-decoration-color: #008080\">│</span> <span style=\"color: #008080; text-decoration-color: #008080\">CPU PEAK             </span><span style=\"color: #7fbfbf; text-decoration-color: #7fbfbf\">|</span><span style=\"color: #7f7f7f; text-decoration-color: #7f7f7f\"> </span><span style=\"color: #c0c0c0; text-decoration-color: #c0c0c0\">        99.8% of 10 cores</span>                                                                <span style=\"color: #008080; text-decoration-color: #008080\">│</span>\n",
       "<span style=\"color: #008080; text-decoration-color: #008080\">│</span> <span style=\"color: #008080; text-decoration-color: #008080\">RAM AVERAGE          </span><span style=\"color: #7fbfbf; text-decoration-color: #7fbfbf\">|</span><span style=\"color: #7f7f7f; text-decoration-color: #7f7f7f\"> </span><span style=\"color: #c0c0c0; text-decoration-color: #c0c0c0\">8.50 GB / 24.0 GB (35.4%)</span>                                                                <span style=\"color: #008080; text-decoration-color: #008080\">│</span>\n",
       "<span style=\"color: #008080; text-decoration-color: #008080\">│</span> <span style=\"color: #008080; text-decoration-color: #008080\">RAM PEAK             </span><span style=\"color: #7fbfbf; text-decoration-color: #7fbfbf\">|</span><span style=\"color: #7f7f7f; text-decoration-color: #7f7f7f\"> </span><span style=\"color: #c0c0c0; text-decoration-color: #c0c0c0\">9.70 GB / 24.0 GB (40.4%)</span>                                                                <span style=\"color: #008080; text-decoration-color: #008080\">│</span>\n",
       "<span style=\"color: #008080; text-decoration-color: #008080\">│</span> <span style=\"color: #008080; text-decoration-color: #008080\">GPU                  </span><span style=\"color: #7fbfbf; text-decoration-color: #7fbfbf\">|</span><span style=\"color: #7f7f7f; text-decoration-color: #7f7f7f\"> </span><span style=\"color: #c0c0c0; text-decoration-color: #c0c0c0\">            </span><span style=\"color: #800000; text-decoration-color: #800000\">Not available</span>                                                                <span style=\"color: #008080; text-decoration-color: #008080\">│</span>\n",
       "<span style=\"color: #008080; text-decoration-color: #008080\">╰─────────────────────────────────────────────────────────────────────────────────────────────────────────────────╯</span>\n",
       "</pre>\n"
      ]
     },
     "metadata": {},
     "output_type": "display_data"
    },
    {
     "data": {
      "text/plain": [
       "\u001B[35m╭─\u001B[0m\u001B[35m──────────────────────────────────────────────\u001B[0m\u001B[35m \u001B[0m\u001B[1;35mProcess - Summary\u001B[0m\u001B[35m \u001B[0m\u001B[35m──────────────────────────────────────────────\u001B[0m\u001B[35m─╮\u001B[0m\n",
       "\u001B[35m│\u001B[0m \u001B[35mTOTAL PROCESS SAMPLES\u001B[0m\u001B[35m \u001B[0m\u001B[2;35m|\u001B[0m\u001B[2m \u001B[0m\u001B[37m                              119\u001B[0m                                                       \u001B[35m│\u001B[0m\n",
       "\u001B[35m│\u001B[0m \u001B[35mCPU AVERAGE          \u001B[0m\u001B[35m \u001B[0m\u001B[2;35m|\u001B[0m\u001B[2m \u001B[0m\u001B[37m117.5% (~1.2 cores of 10.0 cores)\u001B[0m                                                       \u001B[35m│\u001B[0m\n",
       "\u001B[35m│\u001B[0m \u001B[35mCPU PEAK             \u001B[0m\u001B[35m \u001B[0m\u001B[2;35m|\u001B[0m\u001B[2m \u001B[0m\u001B[37m154.0% (~1.5 cores of 10.0 cores)\u001B[0m                                                       \u001B[35m│\u001B[0m\n",
       "\u001B[35m│\u001B[0m \u001B[35mRAM AVERAGE          \u001B[0m\u001B[35m \u001B[0m\u001B[2;35m|\u001B[0m\u001B[2m \u001B[0m\u001B[37m        2.53 GB / 24.0 GB (10.6%)\u001B[0m                                                       \u001B[35m│\u001B[0m\n",
       "\u001B[35m│\u001B[0m \u001B[35mRAM PEAK             \u001B[0m\u001B[35m \u001B[0m\u001B[2;35m|\u001B[0m\u001B[2m \u001B[0m\u001B[37m        4.61 GB / 24.0 GB (19.2%)\u001B[0m                                                       \u001B[35m│\u001B[0m\n",
       "\u001B[35m│\u001B[0m \u001B[35mGPU                  \u001B[0m\u001B[35m \u001B[0m\u001B[2;35m|\u001B[0m\u001B[2m \u001B[0m\u001B[37m                    \u001B[0m\u001B[31mNot available\u001B[0m                                                       \u001B[35m│\u001B[0m\n",
       "\u001B[35m╰─────────────────────────────────────────────────────────────────────────────────────────────────────────────────╯\u001B[0m\n"
      ],
      "text/html": [
       "<pre style=\"white-space:pre;overflow-x:auto;line-height:normal;font-family:Menlo,'DejaVu Sans Mono',consolas,'Courier New',monospace\"><span style=\"color: #800080; text-decoration-color: #800080\">╭─────────────────────────────────────────────── </span><span style=\"color: #800080; text-decoration-color: #800080; font-weight: bold\">Process - Summary</span><span style=\"color: #800080; text-decoration-color: #800080\"> ───────────────────────────────────────────────╮</span>\n",
       "<span style=\"color: #800080; text-decoration-color: #800080\">│</span> <span style=\"color: #800080; text-decoration-color: #800080\">TOTAL PROCESS SAMPLES </span><span style=\"color: #bf7fbf; text-decoration-color: #bf7fbf\">|</span><span style=\"color: #7f7f7f; text-decoration-color: #7f7f7f\"> </span><span style=\"color: #c0c0c0; text-decoration-color: #c0c0c0\">                              119</span>                                                       <span style=\"color: #800080; text-decoration-color: #800080\">│</span>\n",
       "<span style=\"color: #800080; text-decoration-color: #800080\">│</span> <span style=\"color: #800080; text-decoration-color: #800080\">CPU AVERAGE           </span><span style=\"color: #bf7fbf; text-decoration-color: #bf7fbf\">|</span><span style=\"color: #7f7f7f; text-decoration-color: #7f7f7f\"> </span><span style=\"color: #c0c0c0; text-decoration-color: #c0c0c0\">117.5% (~1.2 cores of 10.0 cores)</span>                                                       <span style=\"color: #800080; text-decoration-color: #800080\">│</span>\n",
       "<span style=\"color: #800080; text-decoration-color: #800080\">│</span> <span style=\"color: #800080; text-decoration-color: #800080\">CPU PEAK              </span><span style=\"color: #bf7fbf; text-decoration-color: #bf7fbf\">|</span><span style=\"color: #7f7f7f; text-decoration-color: #7f7f7f\"> </span><span style=\"color: #c0c0c0; text-decoration-color: #c0c0c0\">154.0% (~1.5 cores of 10.0 cores)</span>                                                       <span style=\"color: #800080; text-decoration-color: #800080\">│</span>\n",
       "<span style=\"color: #800080; text-decoration-color: #800080\">│</span> <span style=\"color: #800080; text-decoration-color: #800080\">RAM AVERAGE           </span><span style=\"color: #bf7fbf; text-decoration-color: #bf7fbf\">|</span><span style=\"color: #7f7f7f; text-decoration-color: #7f7f7f\"> </span><span style=\"color: #c0c0c0; text-decoration-color: #c0c0c0\">        2.53 GB / 24.0 GB (10.6%)</span>                                                       <span style=\"color: #800080; text-decoration-color: #800080\">│</span>\n",
       "<span style=\"color: #800080; text-decoration-color: #800080\">│</span> <span style=\"color: #800080; text-decoration-color: #800080\">RAM PEAK              </span><span style=\"color: #bf7fbf; text-decoration-color: #bf7fbf\">|</span><span style=\"color: #7f7f7f; text-decoration-color: #7f7f7f\"> </span><span style=\"color: #c0c0c0; text-decoration-color: #c0c0c0\">        4.61 GB / 24.0 GB (19.2%)</span>                                                       <span style=\"color: #800080; text-decoration-color: #800080\">│</span>\n",
       "<span style=\"color: #800080; text-decoration-color: #800080\">│</span> <span style=\"color: #800080; text-decoration-color: #800080\">GPU                   </span><span style=\"color: #bf7fbf; text-decoration-color: #bf7fbf\">|</span><span style=\"color: #7f7f7f; text-decoration-color: #7f7f7f\"> </span><span style=\"color: #c0c0c0; text-decoration-color: #c0c0c0\">                    </span><span style=\"color: #800000; text-decoration-color: #800000\">Not available</span>                                                       <span style=\"color: #800080; text-decoration-color: #800080\">│</span>\n",
       "<span style=\"color: #800080; text-decoration-color: #800080\">╰─────────────────────────────────────────────────────────────────────────────────────────────────────────────────╯</span>\n",
       "</pre>\n"
      ]
     },
     "metadata": {},
     "output_type": "display_data"
    },
    {
     "data": {
      "text/plain": [
       "\u001B[34m╭─\u001B[0m\u001B[34m────────────────────────────────────────────\u001B[0m\u001B[34m \u001B[0m\u001B[1;34mModel Layer - Summary\u001B[0m\u001B[34m \u001B[0m\u001B[34m────────────────────────────────────────────\u001B[0m\u001B[34m─╮\u001B[0m\n",
       "\u001B[34m│\u001B[0m \u001B[1;34mTOTAL SAMPLES TAKEN\u001B[0m\u001B[1m                              \u001B[0m\u001B[1m \u001B[0m\u001B[2m|\u001B[0m\u001B[2m \u001B[0m\u001B[37m     1\u001B[0m                                                      \u001B[34m│\u001B[0m\n",
       "\u001B[34m│\u001B[0m \u001B[1;34mTOTAL MODELS SEEN\u001B[0m\u001B[1m                                \u001B[0m\u001B[1m \u001B[0m\u001B[2m|\u001B[0m\u001B[2m \u001B[0m\u001B[37m     1\u001B[0m                                                      \u001B[34m│\u001B[0m\n",
       "\u001B[34m│\u001B[0m \u001B[1;34mAVERAGE MODEL MEMORY\u001B[0m\u001B[1m                             \u001B[0m\u001B[1m \u001B[0m\u001B[2m|\u001B[0m\u001B[2m \u001B[0m\u001B[37m255 MB\u001B[0m                                                      \u001B[34m│\u001B[0m\n",
       "\u001B[34m│\u001B[0m \u001B[1;34mPEAK MODEL MEMORY\u001B[0m\u001B[1m                                \u001B[0m\u001B[1m \u001B[0m\u001B[2m|\u001B[0m\u001B[2m \u001B[0m\u001B[37m255 MB\u001B[0m                                                      \u001B[34m│\u001B[0m\n",
       "\u001B[34m│\u001B[0m \u001B[1;36mTOP-3 ACTIVATIONS\u001B[0m\u001B[1m                                \u001B[0m\u001B[1m \u001B[0m\u001B[2m|\u001B[0m\u001B[2m \u001B[0m\u001B[37m      \u001B[0m                                                      \u001B[34m│\u001B[0m\n",
       "\u001B[34m│\u001B[0m \u001B[1m  \u001B[0m\u001B[1;36m• distilbert.transformer.layer.0.ffn.lin1\u001B[0m\u001B[1m      \u001B[0m\u001B[1m \u001B[0m\u001B[2m \u001B[0m\u001B[2m \u001B[0m\u001B[36m128 MB\u001B[0m                                                      \u001B[34m│\u001B[0m\n",
       "\u001B[34m│\u001B[0m \u001B[1m  \u001B[0m\u001B[1;36m• distilbert.transformer.layer.0.ffn.activation\u001B[0m\u001B[1m \u001B[0m\u001B[2m \u001B[0m\u001B[2m \u001B[0m\u001B[36m128 MB\u001B[0m                                                      \u001B[34m│\u001B[0m\n",
       "\u001B[34m│\u001B[0m \u001B[1m  \u001B[0m\u001B[1;36m• distilbert.transformer.layer.1.ffn.lin1\u001B[0m\u001B[1m      \u001B[0m\u001B[1m \u001B[0m\u001B[2m \u001B[0m\u001B[2m \u001B[0m\u001B[36m128 MB\u001B[0m                                                      \u001B[34m│\u001B[0m\n",
       "\u001B[34m│\u001B[0m \u001B[1;32mTOP-3 GRADIENTS\u001B[0m\u001B[1m                                  \u001B[0m\u001B[1m \u001B[0m\u001B[2m|\u001B[0m\u001B[2m \u001B[0m\u001B[37m      \u001B[0m                                                      \u001B[34m│\u001B[0m\n",
       "\u001B[34m│\u001B[0m \u001B[1m  \u001B[0m\u001B[1;32m• distilbert.transformer.layer.5.ffn.activation\u001B[0m\u001B[1m \u001B[0m\u001B[2m \u001B[0m\u001B[2m \u001B[0m\u001B[32m128 MB\u001B[0m                                                      \u001B[34m│\u001B[0m\n",
       "\u001B[34m│\u001B[0m \u001B[1m  \u001B[0m\u001B[1;32m• distilbert.transformer.layer.5.ffn.lin1\u001B[0m\u001B[1m      \u001B[0m\u001B[1m \u001B[0m\u001B[2m \u001B[0m\u001B[2m \u001B[0m\u001B[32m128 MB\u001B[0m                                                      \u001B[34m│\u001B[0m\n",
       "\u001B[34m│\u001B[0m \u001B[1m  \u001B[0m\u001B[1;32m• distilbert.transformer.layer.4.ffn.activation\u001B[0m\u001B[1m \u001B[0m\u001B[2m \u001B[0m\u001B[2m \u001B[0m\u001B[32m128 MB\u001B[0m                                                      \u001B[34m│\u001B[0m\n",
       "\u001B[34m╰─────────────────────────────────────────────────────────────────────────────────────────────────────────────────╯\u001B[0m\n"
      ],
      "text/html": [
       "<pre style=\"white-space:pre;overflow-x:auto;line-height:normal;font-family:Menlo,'DejaVu Sans Mono',consolas,'Courier New',monospace\"><span style=\"color: #000080; text-decoration-color: #000080\">╭───────────────────────────────────────────── </span><span style=\"color: #000080; text-decoration-color: #000080; font-weight: bold\">Model Layer - Summary</span><span style=\"color: #000080; text-decoration-color: #000080\"> ─────────────────────────────────────────────╮</span>\n",
       "<span style=\"color: #000080; text-decoration-color: #000080\">│</span> <span style=\"color: #000080; text-decoration-color: #000080; font-weight: bold\">TOTAL SAMPLES TAKEN</span><span style=\"font-weight: bold\">                               </span><span style=\"color: #7f7f7f; text-decoration-color: #7f7f7f\">| </span><span style=\"color: #c0c0c0; text-decoration-color: #c0c0c0\">     1</span>                                                      <span style=\"color: #000080; text-decoration-color: #000080\">│</span>\n",
       "<span style=\"color: #000080; text-decoration-color: #000080\">│</span> <span style=\"color: #000080; text-decoration-color: #000080; font-weight: bold\">TOTAL MODELS SEEN</span><span style=\"font-weight: bold\">                                 </span><span style=\"color: #7f7f7f; text-decoration-color: #7f7f7f\">| </span><span style=\"color: #c0c0c0; text-decoration-color: #c0c0c0\">     1</span>                                                      <span style=\"color: #000080; text-decoration-color: #000080\">│</span>\n",
       "<span style=\"color: #000080; text-decoration-color: #000080\">│</span> <span style=\"color: #000080; text-decoration-color: #000080; font-weight: bold\">AVERAGE MODEL MEMORY</span><span style=\"font-weight: bold\">                              </span><span style=\"color: #7f7f7f; text-decoration-color: #7f7f7f\">| </span><span style=\"color: #c0c0c0; text-decoration-color: #c0c0c0\">255 MB</span>                                                      <span style=\"color: #000080; text-decoration-color: #000080\">│</span>\n",
       "<span style=\"color: #000080; text-decoration-color: #000080\">│</span> <span style=\"color: #000080; text-decoration-color: #000080; font-weight: bold\">PEAK MODEL MEMORY</span><span style=\"font-weight: bold\">                                 </span><span style=\"color: #7f7f7f; text-decoration-color: #7f7f7f\">| </span><span style=\"color: #c0c0c0; text-decoration-color: #c0c0c0\">255 MB</span>                                                      <span style=\"color: #000080; text-decoration-color: #000080\">│</span>\n",
       "<span style=\"color: #000080; text-decoration-color: #000080\">│</span> <span style=\"color: #008080; text-decoration-color: #008080; font-weight: bold\">TOP-3 ACTIVATIONS</span><span style=\"font-weight: bold\">                                 </span><span style=\"color: #7f7f7f; text-decoration-color: #7f7f7f\">| </span><span style=\"color: #c0c0c0; text-decoration-color: #c0c0c0\">      </span>                                                      <span style=\"color: #000080; text-decoration-color: #000080\">│</span>\n",
       "<span style=\"color: #000080; text-decoration-color: #000080\">│</span> <span style=\"font-weight: bold\">  </span><span style=\"color: #008080; text-decoration-color: #008080; font-weight: bold\">• distilbert.transformer.layer.0.ffn.lin1</span><span style=\"font-weight: bold\">       </span><span style=\"color: #7f7f7f; text-decoration-color: #7f7f7f\">  </span><span style=\"color: #008080; text-decoration-color: #008080\">128 MB</span>                                                      <span style=\"color: #000080; text-decoration-color: #000080\">│</span>\n",
       "<span style=\"color: #000080; text-decoration-color: #000080\">│</span> <span style=\"font-weight: bold\">  </span><span style=\"color: #008080; text-decoration-color: #008080; font-weight: bold\">• distilbert.transformer.layer.0.ffn.activation</span><span style=\"font-weight: bold\"> </span><span style=\"color: #7f7f7f; text-decoration-color: #7f7f7f\">  </span><span style=\"color: #008080; text-decoration-color: #008080\">128 MB</span>                                                      <span style=\"color: #000080; text-decoration-color: #000080\">│</span>\n",
       "<span style=\"color: #000080; text-decoration-color: #000080\">│</span> <span style=\"font-weight: bold\">  </span><span style=\"color: #008080; text-decoration-color: #008080; font-weight: bold\">• distilbert.transformer.layer.1.ffn.lin1</span><span style=\"font-weight: bold\">       </span><span style=\"color: #7f7f7f; text-decoration-color: #7f7f7f\">  </span><span style=\"color: #008080; text-decoration-color: #008080\">128 MB</span>                                                      <span style=\"color: #000080; text-decoration-color: #000080\">│</span>\n",
       "<span style=\"color: #000080; text-decoration-color: #000080\">│</span> <span style=\"color: #008000; text-decoration-color: #008000; font-weight: bold\">TOP-3 GRADIENTS</span><span style=\"font-weight: bold\">                                   </span><span style=\"color: #7f7f7f; text-decoration-color: #7f7f7f\">| </span><span style=\"color: #c0c0c0; text-decoration-color: #c0c0c0\">      </span>                                                      <span style=\"color: #000080; text-decoration-color: #000080\">│</span>\n",
       "<span style=\"color: #000080; text-decoration-color: #000080\">│</span> <span style=\"font-weight: bold\">  </span><span style=\"color: #008000; text-decoration-color: #008000; font-weight: bold\">• distilbert.transformer.layer.5.ffn.activation</span><span style=\"font-weight: bold\"> </span><span style=\"color: #7f7f7f; text-decoration-color: #7f7f7f\">  </span><span style=\"color: #008000; text-decoration-color: #008000\">128 MB</span>                                                      <span style=\"color: #000080; text-decoration-color: #000080\">│</span>\n",
       "<span style=\"color: #000080; text-decoration-color: #000080\">│</span> <span style=\"font-weight: bold\">  </span><span style=\"color: #008000; text-decoration-color: #008000; font-weight: bold\">• distilbert.transformer.layer.5.ffn.lin1</span><span style=\"font-weight: bold\">       </span><span style=\"color: #7f7f7f; text-decoration-color: #7f7f7f\">  </span><span style=\"color: #008000; text-decoration-color: #008000\">128 MB</span>                                                      <span style=\"color: #000080; text-decoration-color: #000080\">│</span>\n",
       "<span style=\"color: #000080; text-decoration-color: #000080\">│</span> <span style=\"font-weight: bold\">  </span><span style=\"color: #008000; text-decoration-color: #008000; font-weight: bold\">• distilbert.transformer.layer.4.ffn.activation</span><span style=\"font-weight: bold\"> </span><span style=\"color: #7f7f7f; text-decoration-color: #7f7f7f\">  </span><span style=\"color: #008000; text-decoration-color: #008000\">128 MB</span>                                                      <span style=\"color: #000080; text-decoration-color: #000080\">│</span>\n",
       "<span style=\"color: #000080; text-decoration-color: #000080\">╰─────────────────────────────────────────────────────────────────────────────────────────────────────────────────╯</span>\n",
       "</pre>\n"
      ]
     },
     "metadata": {},
     "output_type": "display_data"
    },
    {
     "data": {
      "text/plain": [
       "\u001B[34m╭─\u001B[0m\u001B[34m───────────────────────────────────────\u001B[0m\u001B[34m \u001B[0m\u001B[1;34mActivation & Gradient - Summary\u001B[0m\u001B[34m \u001B[0m\u001B[34m───────────────────────────────────────\u001B[0m\u001B[34m─╮\u001B[0m\n",
       "\u001B[34m│\u001B[0m \u001B[1;36mApprox ACTIVATION AVG\u001B[0m\u001B[1m \u001B[0m\u001B[2m|\u001B[0m\u001B[2m \u001B[0m\u001B[37m1.68 GB\u001B[0m                                                                                 \u001B[34m│\u001B[0m\n",
       "\u001B[34m│\u001B[0m \u001B[1;36mApprox ACTIVATION MAX\u001B[0m\u001B[1m \u001B[0m\u001B[2m|\u001B[0m\u001B[2m \u001B[0m\u001B[37m3.10 GB\u001B[0m                                                                                 \u001B[34m│\u001B[0m\n",
       "\u001B[34m│\u001B[0m \u001B[1;32mApprox GRADIENT AVG\u001B[0m\u001B[1m  \u001B[0m\u001B[1m \u001B[0m\u001B[2m|\u001B[0m\u001B[2m \u001B[0m\u001B[37m1.60 GB\u001B[0m                                                                                 \u001B[34m│\u001B[0m\n",
       "\u001B[34m│\u001B[0m \u001B[1;32mApprox GRADIENT MAX\u001B[0m\u001B[1m  \u001B[0m\u001B[1m \u001B[0m\u001B[2m|\u001B[0m\u001B[2m \u001B[0m\u001B[37m3.16 GB\u001B[0m                                                                                 \u001B[34m│\u001B[0m\n",
       "\u001B[34m╰─────────────────────────────────────────────────────────────────────────────────────────────────────────────────╯\u001B[0m\n"
      ],
      "text/html": [
       "<pre style=\"white-space:pre;overflow-x:auto;line-height:normal;font-family:Menlo,'DejaVu Sans Mono',consolas,'Courier New',monospace\"><span style=\"color: #000080; text-decoration-color: #000080\">╭──────────────────────────────────────── </span><span style=\"color: #000080; text-decoration-color: #000080; font-weight: bold\">Activation &amp; Gradient - Summary</span><span style=\"color: #000080; text-decoration-color: #000080\"> ────────────────────────────────────────╮</span>\n",
       "<span style=\"color: #000080; text-decoration-color: #000080\">│</span> <span style=\"color: #008080; text-decoration-color: #008080; font-weight: bold\">Approx ACTIVATION AVG</span><span style=\"font-weight: bold\"> </span><span style=\"color: #7f7f7f; text-decoration-color: #7f7f7f\">| </span><span style=\"color: #c0c0c0; text-decoration-color: #c0c0c0\">1.68 GB</span>                                                                                 <span style=\"color: #000080; text-decoration-color: #000080\">│</span>\n",
       "<span style=\"color: #000080; text-decoration-color: #000080\">│</span> <span style=\"color: #008080; text-decoration-color: #008080; font-weight: bold\">Approx ACTIVATION MAX</span><span style=\"font-weight: bold\"> </span><span style=\"color: #7f7f7f; text-decoration-color: #7f7f7f\">| </span><span style=\"color: #c0c0c0; text-decoration-color: #c0c0c0\">3.10 GB</span>                                                                                 <span style=\"color: #000080; text-decoration-color: #000080\">│</span>\n",
       "<span style=\"color: #000080; text-decoration-color: #000080\">│</span> <span style=\"color: #008000; text-decoration-color: #008000; font-weight: bold\">Approx GRADIENT AVG</span><span style=\"font-weight: bold\">   </span><span style=\"color: #7f7f7f; text-decoration-color: #7f7f7f\">| </span><span style=\"color: #c0c0c0; text-decoration-color: #c0c0c0\">1.60 GB</span>                                                                                 <span style=\"color: #000080; text-decoration-color: #000080\">│</span>\n",
       "<span style=\"color: #000080; text-decoration-color: #000080\">│</span> <span style=\"color: #008000; text-decoration-color: #008000; font-weight: bold\">Approx GRADIENT MAX</span><span style=\"font-weight: bold\">   </span><span style=\"color: #7f7f7f; text-decoration-color: #7f7f7f\">| </span><span style=\"color: #c0c0c0; text-decoration-color: #c0c0c0\">3.16 GB</span>                                                                                 <span style=\"color: #000080; text-decoration-color: #000080\">│</span>\n",
       "<span style=\"color: #000080; text-decoration-color: #000080\">╰─────────────────────────────────────────────────────────────────────────────────────────────────────────────────╯</span>\n",
       "</pre>\n"
      ]
     },
     "metadata": {},
     "output_type": "display_data"
    }
   ],
   "execution_count": 5
  }
 ],
 "metadata": {
  "kernelspec": {
   "display_name": "Python 3",
   "language": "python",
   "name": "python3"
  },
  "language_info": {
   "codemirror_mode": {
    "name": "ipython",
    "version": 2
   },
   "file_extension": ".py",
   "mimetype": "text/x-python",
   "name": "python",
   "nbconvert_exporter": "python",
   "pygments_lexer": "ipython2",
   "version": "2.7.6"
  }
 },
 "nbformat": 4,
 "nbformat_minor": 5
}
