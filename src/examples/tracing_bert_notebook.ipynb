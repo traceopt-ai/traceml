{
 "cells": [
  {
   "metadata": {},
   "cell_type": "code",
   "outputs": [],
   "execution_count": null,
   "source": "!pip install traceml-ai==0.1.1",
   "id": "a47e91de4bd57f54"
  },
  {
   "cell_type": "code",
   "id": "initial_id",
   "metadata": {
    "collapsed": true,
    "ExecuteTime": {
     "end_time": "2025-10-07T12:29:29.487477Z",
     "start_time": "2025-10-07T12:29:24.095350Z"
    }
   },
   "source": [
    "import random\n",
    "import math\n",
    "\n",
    "import torch\n",
    "from torch.utils.data import DataLoader\n",
    "from torch.optim import AdamW\n",
    "\n",
    "from datasets import load_dataset\n",
    "from transformers import (\n",
    "    AutoTokenizer,\n",
    "    AutoModelForSequenceClassification,\n",
    "    DataCollatorWithPadding,\n",
    "    get_linear_schedule_with_warmup,\n",
    ")\n",
    "\n",
    "# TraceML imports\n",
    "from traceml.decorator import trace_model_instance, trace_timestep\n",
    "from traceml.manager.tracker_manager import TrackerManager"
   ],
   "outputs": [],
   "execution_count": 1
  },
  {
   "metadata": {
    "ExecuteTime": {
     "end_time": "2025-10-07T12:29:29.502581Z",
     "start_time": "2025-10-07T12:29:29.495679Z"
    }
   },
   "cell_type": "code",
   "source": [
    "SEED = 42\n",
    "MODEL_NAME = \"distilbert-base-uncased\"\n",
    "MAX_TRAIN_EXAMPLES = 500\n",
    "MAX_VAL_EXAMPLES = 100\n",
    "BATCH_SIZE = 32\n",
    "EPOCHS = 1\n",
    "LR = 2e-5\n",
    "WARMUP_RATIO = 0.06\n"
   ],
   "id": "be4b1d514b0e41df",
   "outputs": [],
   "execution_count": 2
  },
  {
   "metadata": {
    "ExecuteTime": {
     "end_time": "2025-10-07T12:29:29.515867Z",
     "start_time": "2025-10-07T12:29:29.508046Z"
    }
   },
   "cell_type": "code",
   "source": [
    "def set_seed(seed: int = SEED):\n",
    "    random.seed(seed)\n",
    "    torch.manual_seed(seed)\n",
    "    torch.cuda.manual_seed_all(seed)\n",
    "\n",
    "\n",
    "def accuracy_from_logits(logits: torch.Tensor, labels: torch.Tensor) -> float:\n",
    "    preds = torch.argmax(logits, dim=-1)\n",
    "    correct = (preds == labels).sum().item()\n",
    "    return correct / max(1, labels.size(0))\n",
    "\n",
    "\n",
    "def prepare_data():\n",
    "    raw = load_dataset(\"ag_news\")\n",
    "    train_raw = raw[\"train\"].select(range(min(MAX_TRAIN_EXAMPLES, len(raw[\"train\"]))))\n",
    "    val_raw = raw[\"test\"].select(range(min(MAX_VAL_EXAMPLES, len(raw[\"test\"]))))\n",
    "\n",
    "    tokenizer = AutoTokenizer.from_pretrained(MODEL_NAME)\n",
    "\n",
    "    def tok(examples):\n",
    "        return tokenizer(examples[\"text\"], truncation=True)\n",
    "\n",
    "    train_ds = train_raw.map(tok, batched=True, remove_columns=[\"text\"])\n",
    "    val_ds = val_raw.map(tok, batched=True, remove_columns=[\"text\"])\n",
    "\n",
    "    train_ds = train_ds.rename_column(\"label\", \"labels\")\n",
    "    val_ds = val_ds.rename_column(\"label\", \"labels\")\n",
    "\n",
    "    collator = DataCollatorWithPadding(tokenizer=tokenizer, padding=\"longest\")\n",
    "\n",
    "    train_loader = DataLoader(\n",
    "        train_ds, batch_size=BATCH_SIZE, shuffle=True, collate_fn=collator\n",
    "    )\n",
    "    val_loader = DataLoader(\n",
    "        val_ds, batch_size=BATCH_SIZE, shuffle=False, collate_fn=collator\n",
    "    )\n",
    "    return tokenizer, train_loader, val_loader\n"
   ],
   "id": "74fd9dc30cce89a6",
   "outputs": [],
   "execution_count": 3
  },
  {
   "metadata": {
    "ExecuteTime": {
     "end_time": "2025-10-07T12:29:29.535018Z",
     "start_time": "2025-10-07T12:29:29.524098Z"
    }
   },
   "cell_type": "code",
   "source": [
    "# --- TraceML step timers (granular measurement) ---\n",
    "\n",
    "@trace_timestep(\"dataloader_fetch\", use_gpu=False)\n",
    "def get_next_batch(it):\n",
    "    \"\"\"Measure wait time for dataloader iteration.\"\"\"\n",
    "    return next(it)\n",
    "\n",
    "\n",
    "@trace_timestep(\"data_loading\", use_gpu=False)\n",
    "def load_batch_to_device(batch, device):\n",
    "    \"\"\"Measure data transfer time (CPU → GPU).\"\"\"\n",
    "    return {k: v.to(device, non_blocking=True) for k, v in batch.items()}\n",
    "\n",
    "\n",
    "@trace_timestep(\"forward\", use_gpu=True)\n",
    "def forward_pass(model, batch, dtype):\n",
    "    \"\"\"Trace forward pass latency.\"\"\"\n",
    "    with torch.cuda.amp.autocast(enabled=torch.cuda.is_available(), dtype=dtype):\n",
    "        return model(**batch)\n",
    "\n",
    "\n",
    "@trace_timestep(\"backward\", use_gpu=True)\n",
    "def backward_pass(loss, scaler):\n",
    "    \"\"\"Trace backward pass (grad computation).\"\"\"\n",
    "    scaler.scale(loss).backward()\n",
    "\n",
    "\n",
    "@trace_timestep(\"optimizer_step\", use_gpu=True)\n",
    "def optimizer_step(scaler, optimizer, scheduler):\n",
    "    \"\"\"Trace optimizer + scheduler step.\"\"\"\n",
    "    scaler.step(optimizer)\n",
    "    scaler.update()\n",
    "    scheduler.step()\n",
    "\n",
    "\n",
    "@trace_timestep(\"validation\", use_gpu=True)\n",
    "def run_validation(model, val_loader, dtype, device):\n",
    "    \"\"\"Trace entire validation loop time.\"\"\"\n",
    "    model.eval()\n",
    "    val_loss = 0.0\n",
    "    val_acc = 0.0\n",
    "    n_batches = 0\n",
    "    with torch.no_grad():\n",
    "        for batch in val_loader:\n",
    "            batch = load_batch_to_device(batch, device)\n",
    "            with torch.cuda.amp.autocast(enabled=torch.cuda.is_available(), dtype=dtype):\n",
    "                out = model(**batch)\n",
    "                loss = out.loss\n",
    "                logits = out.logits\n",
    "            val_loss += loss.item()\n",
    "            val_acc += accuracy_from_logits(logits, batch[\"labels\"])\n",
    "            n_batches += 1\n",
    "    model.train()\n",
    "    return val_loss / max(1, n_batches), val_acc / max(1, n_batches)"
   ],
   "id": "bc45a453e3201758",
   "outputs": [],
   "execution_count": 4
  },
  {
   "metadata": {
    "ExecuteTime": {
     "end_time": "2025-10-07T12:29:29.547876Z",
     "start_time": "2025-10-07T12:29:29.540934Z"
    }
   },
   "cell_type": "code",
   "source": [
    "def run_training(model, train_loader, val_loader, optimizer, scheduler, scaler, device, dtype):\n",
    "    \"\"\"Main training loop (timed via TraceML).\"\"\"\n",
    "    model.train()\n",
    "    global_step = 0\n",
    "    train_iter = iter(train_loader)\n",
    "\n",
    "    for epoch in range(EPOCHS):\n",
    "        running_loss = 0.0\n",
    "        running_acc = 0.0\n",
    "\n",
    "        for _ in range(len(train_loader)):\n",
    "            # Measure dataloader latency\n",
    "            batch = get_next_batch(train_iter)\n",
    "\n",
    "            # Transfer to GPU\n",
    "            batch = load_batch_to_device(batch, device)\n",
    "\n",
    "            optimizer.zero_grad(set_to_none=True)\n",
    "\n",
    "            # Forward\n",
    "            out = forward_pass(model, batch, dtype)\n",
    "            loss = out.loss\n",
    "            logits = out.logits\n",
    "\n",
    "            # Backward\n",
    "            backward_pass(loss, scaler)\n",
    "\n",
    "            # Optimizer step\n",
    "            optimizer_step(scaler, optimizer, scheduler)\n",
    "\n",
    "            # Accuracy\n",
    "            acc = accuracy_from_logits(logits.detach(), batch[\"labels\"])\n",
    "            running_loss += loss.item()\n",
    "            running_acc += acc\n",
    "            global_step += 1\n",
    "\n",
    "            if global_step % 50 == 0:\n",
    "                print(\n",
    "                    f\"[Train] epoch {epoch+1} step {global_step} | \"\n",
    "                    f\"loss {running_loss/50:.4f} | acc {running_acc/50:.4f}\"\n",
    "                )\n",
    "                running_loss = 0.0\n",
    "                running_acc = 0.0\n",
    "\n",
    "        # Validation after epoch\n",
    "        val_loss, val_acc = run_validation(model, val_loader, dtype, device)\n",
    "        print(f\"[Val] epoch {epoch+1} | loss {val_loss:.4f} | acc {val_acc:.4f}\")\n"
   ],
   "id": "961fd77494d33752",
   "outputs": [],
   "execution_count": 5
  },
  {
   "metadata": {
    "ExecuteTime": {
     "end_time": "2025-10-07T12:31:32.191349Z",
     "start_time": "2025-10-07T12:29:29.557916Z"
    }
   },
   "cell_type": "code",
   "source": [
    "set_seed()\n",
    "device = torch.device(\"cuda\" if torch.cuda.is_available() else \"cpu\")\n",
    "dtype = torch.float16 if torch.cuda.is_available() else torch.float32\n",
    "\n",
    "tokenizer, train_loader, val_loader = prepare_data()\n",
    "\n",
    "model = AutoModelForSequenceClassification.from_pretrained(\n",
    "    MODEL_NAME, num_labels=4\n",
    ").to(device)\n",
    "\n",
    "# Attach TraceML hooks (activations, gradients, etc.)\n",
    "trace_model_instance(\n",
    "    model,\n",
    "    sample_layer_memory=True,\n",
    "    trace_activations=True,\n",
    "    trace_gradients=True,\n",
    ")\n",
    "\n",
    "optimizer = AdamW(model.parameters(), lr=LR)\n",
    "total_steps = EPOCHS * math.ceil(len(train_loader))\n",
    "warmup_steps = int(WARMUP_RATIO * total_steps)\n",
    "scheduler = get_linear_schedule_with_warmup(\n",
    "    optimizer, num_warmup_steps=warmup_steps, num_training_steps=total_steps\n",
    ")\n",
    "scaler = torch.amp.GradScaler(device=\"cuda\", enabled=torch.cuda.is_available())\n",
    "\n",
    "tracker = TrackerManager(interval_sec=1.0, mode=\"notebook\")\n",
    "tracker.start()\n",
    "run_training(model, train_loader, val_loader, optimizer, scheduler, scaler, device, dtype)\n",
    "tracker.stop()\n",
    "tracker.log_summaries()"
   ],
   "id": "7ffaa5a1d877746e",
   "outputs": [
    {
     "name": "stderr",
     "output_type": "stream",
     "text": [
      "Some weights of DistilBertForSequenceClassification were not initialized from the model checkpoint at distilbert-base-uncased and are newly initialized: ['classifier.bias', 'classifier.weight', 'pre_classifier.bias', 'pre_classifier.weight']\n",
      "You should probably TRAIN this model on a down-stream task to be able to use it for predictions and inference.\n",
      "[14:29:33] ERROR traceml.SystemSampler: [TraceML] WARNING: GPU not available: NVML Shared Library Not Found\n",
      "/var/folders/xn/64_d8wlj1sgbfl7wf19vt0b40000gn/T/ipykernel_20601/2665011269.py:18: FutureWarning: `torch.cuda.amp.autocast(args...)` is deprecated. Please use `torch.amp.autocast('cuda', args...)` instead.\n",
      "  with torch.cuda.amp.autocast(enabled=torch.cuda.is_available(), dtype=dtype):\n"
     ]
    },
    {
     "data": {
      "text/plain": [
       "VBox()"
      ],
      "application/vnd.jupyter.widget-view+json": {
       "version_major": 2,
       "version_minor": 0,
       "model_id": "ab94703d646946b1a0a0eec1d08c38c1"
      }
     },
     "metadata": {},
     "output_type": "display_data"
    },
    {
     "name": "stderr",
     "output_type": "stream",
     "text": [
      "/var/folders/xn/64_d8wlj1sgbfl7wf19vt0b40000gn/T/ipykernel_20601/2665011269.py:25: UserWarning: Full backward hook is firing when gradients are computed with respect to module outputs since no inputs require gradients. See https://docs.pytorch.org/docs/main/generated/torch.nn.Module.html#torch.nn.Module.register_full_backward_hook for more details.\n",
      "  scaler.scale(loss).backward()\n",
      "/var/folders/xn/64_d8wlj1sgbfl7wf19vt0b40000gn/T/ipykernel_20601/2665011269.py:46: FutureWarning: `torch.cuda.amp.autocast(args...)` is deprecated. Please use `torch.amp.autocast('cuda', args...)` instead.\n",
      "  with torch.cuda.amp.autocast(enabled=torch.cuda.is_available(), dtype=dtype):\n"
     ]
    },
    {
     "name": "stdout",
     "output_type": "stream",
     "text": [
      "[Val] epoch 1 | loss 1.4251 | acc 0.2891\n"
     ]
    },
    {
     "data": {
      "text/plain": [
       "\u001B[36m╭─\u001B[0m\u001B[36m──────────────────────────────────────────────\u001B[0m\u001B[36m \u001B[0m\u001B[1;36mSystem - Summary\u001B[0m\u001B[36m \u001B[0m\u001B[36m───────────────────────────────────────────────\u001B[0m\u001B[36m─╮\u001B[0m\n",
       "\u001B[36m│\u001B[0m \u001B[36mTOTAL SYSTEM SAMPLES\u001B[0m\u001B[36m \u001B[0m\u001B[2;36m|\u001B[0m\u001B[2m \u001B[0m\u001B[37m                      118\u001B[0m                                                                \u001B[36m│\u001B[0m\n",
       "\u001B[36m│\u001B[0m \u001B[36mCPU AVERAGE         \u001B[0m\u001B[36m \u001B[0m\u001B[2;36m|\u001B[0m\u001B[2m \u001B[0m\u001B[37m        96.8% of 10 cores\u001B[0m                                                                \u001B[36m│\u001B[0m\n",
       "\u001B[36m│\u001B[0m \u001B[36mCPU PEAK            \u001B[0m\u001B[36m \u001B[0m\u001B[2;36m|\u001B[0m\u001B[2m \u001B[0m\u001B[37m        99.9% of 10 cores\u001B[0m                                                                \u001B[36m│\u001B[0m\n",
       "\u001B[36m│\u001B[0m \u001B[36mRAM AVERAGE         \u001B[0m\u001B[36m \u001B[0m\u001B[2;36m|\u001B[0m\u001B[2m \u001B[0m\u001B[37m8.49 GB / 24.0 GB (35.4%)\u001B[0m                                                                \u001B[36m│\u001B[0m\n",
       "\u001B[36m│\u001B[0m \u001B[36mRAM PEAK            \u001B[0m\u001B[36m \u001B[0m\u001B[2;36m|\u001B[0m\u001B[2m \u001B[0m\u001B[37m9.80 GB / 24.0 GB (40.8%)\u001B[0m                                                                \u001B[36m│\u001B[0m\n",
       "\u001B[36m│\u001B[0m \u001B[36mGPU                 \u001B[0m\u001B[36m \u001B[0m\u001B[2;36m|\u001B[0m\u001B[2m \u001B[0m\u001B[37m            \u001B[0m\u001B[31mNot available\u001B[0m                                                                \u001B[36m│\u001B[0m\n",
       "\u001B[36m╰─────────────────────────────────────────────────────────────────────────────────────────────────────────────────╯\u001B[0m\n"
      ],
      "text/html": [
       "<pre style=\"white-space:pre;overflow-x:auto;line-height:normal;font-family:Menlo,'DejaVu Sans Mono',consolas,'Courier New',monospace\"><span style=\"color: #008080; text-decoration-color: #008080\">╭─────────────────────────────────────────────── </span><span style=\"color: #008080; text-decoration-color: #008080; font-weight: bold\">System - Summary</span><span style=\"color: #008080; text-decoration-color: #008080\"> ────────────────────────────────────────────────╮</span>\n",
       "<span style=\"color: #008080; text-decoration-color: #008080\">│</span> <span style=\"color: #008080; text-decoration-color: #008080\">TOTAL SYSTEM SAMPLES </span><span style=\"color: #7fbfbf; text-decoration-color: #7fbfbf\">|</span><span style=\"color: #7f7f7f; text-decoration-color: #7f7f7f\"> </span><span style=\"color: #c0c0c0; text-decoration-color: #c0c0c0\">                      118</span>                                                                <span style=\"color: #008080; text-decoration-color: #008080\">│</span>\n",
       "<span style=\"color: #008080; text-decoration-color: #008080\">│</span> <span style=\"color: #008080; text-decoration-color: #008080\">CPU AVERAGE          </span><span style=\"color: #7fbfbf; text-decoration-color: #7fbfbf\">|</span><span style=\"color: #7f7f7f; text-decoration-color: #7f7f7f\"> </span><span style=\"color: #c0c0c0; text-decoration-color: #c0c0c0\">        96.8% of 10 cores</span>                                                                <span style=\"color: #008080; text-decoration-color: #008080\">│</span>\n",
       "<span style=\"color: #008080; text-decoration-color: #008080\">│</span> <span style=\"color: #008080; text-decoration-color: #008080\">CPU PEAK             </span><span style=\"color: #7fbfbf; text-decoration-color: #7fbfbf\">|</span><span style=\"color: #7f7f7f; text-decoration-color: #7f7f7f\"> </span><span style=\"color: #c0c0c0; text-decoration-color: #c0c0c0\">        99.9% of 10 cores</span>                                                                <span style=\"color: #008080; text-decoration-color: #008080\">│</span>\n",
       "<span style=\"color: #008080; text-decoration-color: #008080\">│</span> <span style=\"color: #008080; text-decoration-color: #008080\">RAM AVERAGE          </span><span style=\"color: #7fbfbf; text-decoration-color: #7fbfbf\">|</span><span style=\"color: #7f7f7f; text-decoration-color: #7f7f7f\"> </span><span style=\"color: #c0c0c0; text-decoration-color: #c0c0c0\">8.49 GB / 24.0 GB (35.4%)</span>                                                                <span style=\"color: #008080; text-decoration-color: #008080\">│</span>\n",
       "<span style=\"color: #008080; text-decoration-color: #008080\">│</span> <span style=\"color: #008080; text-decoration-color: #008080\">RAM PEAK             </span><span style=\"color: #7fbfbf; text-decoration-color: #7fbfbf\">|</span><span style=\"color: #7f7f7f; text-decoration-color: #7f7f7f\"> </span><span style=\"color: #c0c0c0; text-decoration-color: #c0c0c0\">9.80 GB / 24.0 GB (40.8%)</span>                                                                <span style=\"color: #008080; text-decoration-color: #008080\">│</span>\n",
       "<span style=\"color: #008080; text-decoration-color: #008080\">│</span> <span style=\"color: #008080; text-decoration-color: #008080\">GPU                  </span><span style=\"color: #7fbfbf; text-decoration-color: #7fbfbf\">|</span><span style=\"color: #7f7f7f; text-decoration-color: #7f7f7f\"> </span><span style=\"color: #c0c0c0; text-decoration-color: #c0c0c0\">            </span><span style=\"color: #800000; text-decoration-color: #800000\">Not available</span>                                                                <span style=\"color: #008080; text-decoration-color: #008080\">│</span>\n",
       "<span style=\"color: #008080; text-decoration-color: #008080\">╰─────────────────────────────────────────────────────────────────────────────────────────────────────────────────╯</span>\n",
       "</pre>\n"
      ]
     },
     "metadata": {},
     "output_type": "display_data"
    },
    {
     "data": {
      "text/plain": [
       "\u001B[35m╭─\u001B[0m\u001B[35m──────────────────────────────────────────────\u001B[0m\u001B[35m \u001B[0m\u001B[1;35mProcess - Summary\u001B[0m\u001B[35m \u001B[0m\u001B[35m──────────────────────────────────────────────\u001B[0m\u001B[35m─╮\u001B[0m\n",
       "\u001B[35m│\u001B[0m \u001B[35mTOTAL PROCESS SAMPLES\u001B[0m\u001B[35m \u001B[0m\u001B[2;35m|\u001B[0m\u001B[2m \u001B[0m\u001B[37m                              118\u001B[0m                                                       \u001B[35m│\u001B[0m\n",
       "\u001B[35m│\u001B[0m \u001B[35mCPU AVERAGE          \u001B[0m\u001B[35m \u001B[0m\u001B[2;35m|\u001B[0m\u001B[2m \u001B[0m\u001B[37m117.3% (~1.2 cores of 10.0 cores)\u001B[0m                                                       \u001B[35m│\u001B[0m\n",
       "\u001B[35m│\u001B[0m \u001B[35mCPU PEAK             \u001B[0m\u001B[35m \u001B[0m\u001B[2;35m|\u001B[0m\u001B[2m \u001B[0m\u001B[37m156.9% (~1.6 cores of 10.0 cores)\u001B[0m                                                       \u001B[35m│\u001B[0m\n",
       "\u001B[35m│\u001B[0m \u001B[35mRAM AVERAGE          \u001B[0m\u001B[35m \u001B[0m\u001B[2;35m|\u001B[0m\u001B[2m \u001B[0m\u001B[37m        2.43 GB / 24.0 GB (10.1%)\u001B[0m                                                       \u001B[35m│\u001B[0m\n",
       "\u001B[35m│\u001B[0m \u001B[35mRAM PEAK             \u001B[0m\u001B[35m \u001B[0m\u001B[2;35m|\u001B[0m\u001B[2m \u001B[0m\u001B[37m        4.28 GB / 24.0 GB (17.8%)\u001B[0m                                                       \u001B[35m│\u001B[0m\n",
       "\u001B[35m│\u001B[0m \u001B[35mGPU                  \u001B[0m\u001B[35m \u001B[0m\u001B[2;35m|\u001B[0m\u001B[2m \u001B[0m\u001B[37m                    \u001B[0m\u001B[31mNot available\u001B[0m                                                       \u001B[35m│\u001B[0m\n",
       "\u001B[35m╰─────────────────────────────────────────────────────────────────────────────────────────────────────────────────╯\u001B[0m\n"
      ],
      "text/html": [
       "<pre style=\"white-space:pre;overflow-x:auto;line-height:normal;font-family:Menlo,'DejaVu Sans Mono',consolas,'Courier New',monospace\"><span style=\"color: #800080; text-decoration-color: #800080\">╭─────────────────────────────────────────────── </span><span style=\"color: #800080; text-decoration-color: #800080; font-weight: bold\">Process - Summary</span><span style=\"color: #800080; text-decoration-color: #800080\"> ───────────────────────────────────────────────╮</span>\n",
       "<span style=\"color: #800080; text-decoration-color: #800080\">│</span> <span style=\"color: #800080; text-decoration-color: #800080\">TOTAL PROCESS SAMPLES </span><span style=\"color: #bf7fbf; text-decoration-color: #bf7fbf\">|</span><span style=\"color: #7f7f7f; text-decoration-color: #7f7f7f\"> </span><span style=\"color: #c0c0c0; text-decoration-color: #c0c0c0\">                              118</span>                                                       <span style=\"color: #800080; text-decoration-color: #800080\">│</span>\n",
       "<span style=\"color: #800080; text-decoration-color: #800080\">│</span> <span style=\"color: #800080; text-decoration-color: #800080\">CPU AVERAGE           </span><span style=\"color: #bf7fbf; text-decoration-color: #bf7fbf\">|</span><span style=\"color: #7f7f7f; text-decoration-color: #7f7f7f\"> </span><span style=\"color: #c0c0c0; text-decoration-color: #c0c0c0\">117.3% (~1.2 cores of 10.0 cores)</span>                                                       <span style=\"color: #800080; text-decoration-color: #800080\">│</span>\n",
       "<span style=\"color: #800080; text-decoration-color: #800080\">│</span> <span style=\"color: #800080; text-decoration-color: #800080\">CPU PEAK              </span><span style=\"color: #bf7fbf; text-decoration-color: #bf7fbf\">|</span><span style=\"color: #7f7f7f; text-decoration-color: #7f7f7f\"> </span><span style=\"color: #c0c0c0; text-decoration-color: #c0c0c0\">156.9% (~1.6 cores of 10.0 cores)</span>                                                       <span style=\"color: #800080; text-decoration-color: #800080\">│</span>\n",
       "<span style=\"color: #800080; text-decoration-color: #800080\">│</span> <span style=\"color: #800080; text-decoration-color: #800080\">RAM AVERAGE           </span><span style=\"color: #bf7fbf; text-decoration-color: #bf7fbf\">|</span><span style=\"color: #7f7f7f; text-decoration-color: #7f7f7f\"> </span><span style=\"color: #c0c0c0; text-decoration-color: #c0c0c0\">        2.43 GB / 24.0 GB (10.1%)</span>                                                       <span style=\"color: #800080; text-decoration-color: #800080\">│</span>\n",
       "<span style=\"color: #800080; text-decoration-color: #800080\">│</span> <span style=\"color: #800080; text-decoration-color: #800080\">RAM PEAK              </span><span style=\"color: #bf7fbf; text-decoration-color: #bf7fbf\">|</span><span style=\"color: #7f7f7f; text-decoration-color: #7f7f7f\"> </span><span style=\"color: #c0c0c0; text-decoration-color: #c0c0c0\">        4.28 GB / 24.0 GB (17.8%)</span>                                                       <span style=\"color: #800080; text-decoration-color: #800080\">│</span>\n",
       "<span style=\"color: #800080; text-decoration-color: #800080\">│</span> <span style=\"color: #800080; text-decoration-color: #800080\">GPU                   </span><span style=\"color: #bf7fbf; text-decoration-color: #bf7fbf\">|</span><span style=\"color: #7f7f7f; text-decoration-color: #7f7f7f\"> </span><span style=\"color: #c0c0c0; text-decoration-color: #c0c0c0\">                    </span><span style=\"color: #800000; text-decoration-color: #800000\">Not available</span>                                                       <span style=\"color: #800080; text-decoration-color: #800080\">│</span>\n",
       "<span style=\"color: #800080; text-decoration-color: #800080\">╰─────────────────────────────────────────────────────────────────────────────────────────────────────────────────╯</span>\n",
       "</pre>\n"
      ]
     },
     "metadata": {},
     "output_type": "display_data"
    },
    {
     "data": {
      "text/plain": [
       "\u001B[34m╭─\u001B[0m\u001B[34m────────────────────────────────────────────\u001B[0m\u001B[34m \u001B[0m\u001B[1;34mModel Layer - Summary\u001B[0m\u001B[34m \u001B[0m\u001B[34m────────────────────────────────────────────\u001B[0m\u001B[34m─╮\u001B[0m\n",
       "\u001B[34m│\u001B[0m \u001B[1;34mTOTAL SAMPLES TAKEN\u001B[0m\u001B[1m                              \u001B[0m\u001B[1m \u001B[0m\u001B[2m|\u001B[0m\u001B[2m \u001B[0m\u001B[37m     1\u001B[0m                                                      \u001B[34m│\u001B[0m\n",
       "\u001B[34m│\u001B[0m \u001B[1;34mTOTAL MODELS SEEN\u001B[0m\u001B[1m                                \u001B[0m\u001B[1m \u001B[0m\u001B[2m|\u001B[0m\u001B[2m \u001B[0m\u001B[37m     1\u001B[0m                                                      \u001B[34m│\u001B[0m\n",
       "\u001B[34m│\u001B[0m \u001B[1;34mAVERAGE MODEL MEMORY\u001B[0m\u001B[1m                             \u001B[0m\u001B[1m \u001B[0m\u001B[2m|\u001B[0m\u001B[2m \u001B[0m\u001B[37m255 MB\u001B[0m                                                      \u001B[34m│\u001B[0m\n",
       "\u001B[34m│\u001B[0m \u001B[1;34mPEAK MODEL MEMORY\u001B[0m\u001B[1m                                \u001B[0m\u001B[1m \u001B[0m\u001B[2m|\u001B[0m\u001B[2m \u001B[0m\u001B[37m255 MB\u001B[0m                                                      \u001B[34m│\u001B[0m\n",
       "\u001B[34m│\u001B[0m \u001B[1;36mTOP-3 ACTIVATIONS\u001B[0m\u001B[1m                                \u001B[0m\u001B[1m \u001B[0m\u001B[2m|\u001B[0m\u001B[2m \u001B[0m\u001B[37m      \u001B[0m                                                      \u001B[34m│\u001B[0m\n",
       "\u001B[34m│\u001B[0m \u001B[1m  \u001B[0m\u001B[1;36m• distilbert.transformer.layer.0.ffn.lin1\u001B[0m\u001B[1m      \u001B[0m\u001B[1m \u001B[0m\u001B[2m \u001B[0m\u001B[2m \u001B[0m\u001B[36m128 MB\u001B[0m                                                      \u001B[34m│\u001B[0m\n",
       "\u001B[34m│\u001B[0m \u001B[1m  \u001B[0m\u001B[1;36m• distilbert.transformer.layer.0.ffn.activation\u001B[0m\u001B[1m \u001B[0m\u001B[2m \u001B[0m\u001B[2m \u001B[0m\u001B[36m128 MB\u001B[0m                                                      \u001B[34m│\u001B[0m\n",
       "\u001B[34m│\u001B[0m \u001B[1m  \u001B[0m\u001B[1;36m• distilbert.transformer.layer.1.ffn.lin1\u001B[0m\u001B[1m      \u001B[0m\u001B[1m \u001B[0m\u001B[2m \u001B[0m\u001B[2m \u001B[0m\u001B[36m128 MB\u001B[0m                                                      \u001B[34m│\u001B[0m\n",
       "\u001B[34m│\u001B[0m \u001B[1;32mTOP-3 GRADIENTS\u001B[0m\u001B[1m                                  \u001B[0m\u001B[1m \u001B[0m\u001B[2m|\u001B[0m\u001B[2m \u001B[0m\u001B[37m      \u001B[0m                                                      \u001B[34m│\u001B[0m\n",
       "\u001B[34m│\u001B[0m \u001B[1m  \u001B[0m\u001B[1;32m• distilbert.transformer.layer.5.ffn.activation\u001B[0m\u001B[1m \u001B[0m\u001B[2m \u001B[0m\u001B[2m \u001B[0m\u001B[32m128 MB\u001B[0m                                                      \u001B[34m│\u001B[0m\n",
       "\u001B[34m│\u001B[0m \u001B[1m  \u001B[0m\u001B[1;32m• distilbert.transformer.layer.5.ffn.lin1\u001B[0m\u001B[1m      \u001B[0m\u001B[1m \u001B[0m\u001B[2m \u001B[0m\u001B[2m \u001B[0m\u001B[32m128 MB\u001B[0m                                                      \u001B[34m│\u001B[0m\n",
       "\u001B[34m│\u001B[0m \u001B[1m  \u001B[0m\u001B[1;32m• distilbert.transformer.layer.4.ffn.activation\u001B[0m\u001B[1m \u001B[0m\u001B[2m \u001B[0m\u001B[2m \u001B[0m\u001B[32m128 MB\u001B[0m                                                      \u001B[34m│\u001B[0m\n",
       "\u001B[34m╰─────────────────────────────────────────────────────────────────────────────────────────────────────────────────╯\u001B[0m\n"
      ],
      "text/html": [
       "<pre style=\"white-space:pre;overflow-x:auto;line-height:normal;font-family:Menlo,'DejaVu Sans Mono',consolas,'Courier New',monospace\"><span style=\"color: #000080; text-decoration-color: #000080\">╭───────────────────────────────────────────── </span><span style=\"color: #000080; text-decoration-color: #000080; font-weight: bold\">Model Layer - Summary</span><span style=\"color: #000080; text-decoration-color: #000080\"> ─────────────────────────────────────────────╮</span>\n",
       "<span style=\"color: #000080; text-decoration-color: #000080\">│</span> <span style=\"color: #000080; text-decoration-color: #000080; font-weight: bold\">TOTAL SAMPLES TAKEN</span><span style=\"font-weight: bold\">                               </span><span style=\"color: #7f7f7f; text-decoration-color: #7f7f7f\">| </span><span style=\"color: #c0c0c0; text-decoration-color: #c0c0c0\">     1</span>                                                      <span style=\"color: #000080; text-decoration-color: #000080\">│</span>\n",
       "<span style=\"color: #000080; text-decoration-color: #000080\">│</span> <span style=\"color: #000080; text-decoration-color: #000080; font-weight: bold\">TOTAL MODELS SEEN</span><span style=\"font-weight: bold\">                                 </span><span style=\"color: #7f7f7f; text-decoration-color: #7f7f7f\">| </span><span style=\"color: #c0c0c0; text-decoration-color: #c0c0c0\">     1</span>                                                      <span style=\"color: #000080; text-decoration-color: #000080\">│</span>\n",
       "<span style=\"color: #000080; text-decoration-color: #000080\">│</span> <span style=\"color: #000080; text-decoration-color: #000080; font-weight: bold\">AVERAGE MODEL MEMORY</span><span style=\"font-weight: bold\">                              </span><span style=\"color: #7f7f7f; text-decoration-color: #7f7f7f\">| </span><span style=\"color: #c0c0c0; text-decoration-color: #c0c0c0\">255 MB</span>                                                      <span style=\"color: #000080; text-decoration-color: #000080\">│</span>\n",
       "<span style=\"color: #000080; text-decoration-color: #000080\">│</span> <span style=\"color: #000080; text-decoration-color: #000080; font-weight: bold\">PEAK MODEL MEMORY</span><span style=\"font-weight: bold\">                                 </span><span style=\"color: #7f7f7f; text-decoration-color: #7f7f7f\">| </span><span style=\"color: #c0c0c0; text-decoration-color: #c0c0c0\">255 MB</span>                                                      <span style=\"color: #000080; text-decoration-color: #000080\">│</span>\n",
       "<span style=\"color: #000080; text-decoration-color: #000080\">│</span> <span style=\"color: #008080; text-decoration-color: #008080; font-weight: bold\">TOP-3 ACTIVATIONS</span><span style=\"font-weight: bold\">                                 </span><span style=\"color: #7f7f7f; text-decoration-color: #7f7f7f\">| </span><span style=\"color: #c0c0c0; text-decoration-color: #c0c0c0\">      </span>                                                      <span style=\"color: #000080; text-decoration-color: #000080\">│</span>\n",
       "<span style=\"color: #000080; text-decoration-color: #000080\">│</span> <span style=\"font-weight: bold\">  </span><span style=\"color: #008080; text-decoration-color: #008080; font-weight: bold\">• distilbert.transformer.layer.0.ffn.lin1</span><span style=\"font-weight: bold\">       </span><span style=\"color: #7f7f7f; text-decoration-color: #7f7f7f\">  </span><span style=\"color: #008080; text-decoration-color: #008080\">128 MB</span>                                                      <span style=\"color: #000080; text-decoration-color: #000080\">│</span>\n",
       "<span style=\"color: #000080; text-decoration-color: #000080\">│</span> <span style=\"font-weight: bold\">  </span><span style=\"color: #008080; text-decoration-color: #008080; font-weight: bold\">• distilbert.transformer.layer.0.ffn.activation</span><span style=\"font-weight: bold\"> </span><span style=\"color: #7f7f7f; text-decoration-color: #7f7f7f\">  </span><span style=\"color: #008080; text-decoration-color: #008080\">128 MB</span>                                                      <span style=\"color: #000080; text-decoration-color: #000080\">│</span>\n",
       "<span style=\"color: #000080; text-decoration-color: #000080\">│</span> <span style=\"font-weight: bold\">  </span><span style=\"color: #008080; text-decoration-color: #008080; font-weight: bold\">• distilbert.transformer.layer.1.ffn.lin1</span><span style=\"font-weight: bold\">       </span><span style=\"color: #7f7f7f; text-decoration-color: #7f7f7f\">  </span><span style=\"color: #008080; text-decoration-color: #008080\">128 MB</span>                                                      <span style=\"color: #000080; text-decoration-color: #000080\">│</span>\n",
       "<span style=\"color: #000080; text-decoration-color: #000080\">│</span> <span style=\"color: #008000; text-decoration-color: #008000; font-weight: bold\">TOP-3 GRADIENTS</span><span style=\"font-weight: bold\">                                   </span><span style=\"color: #7f7f7f; text-decoration-color: #7f7f7f\">| </span><span style=\"color: #c0c0c0; text-decoration-color: #c0c0c0\">      </span>                                                      <span style=\"color: #000080; text-decoration-color: #000080\">│</span>\n",
       "<span style=\"color: #000080; text-decoration-color: #000080\">│</span> <span style=\"font-weight: bold\">  </span><span style=\"color: #008000; text-decoration-color: #008000; font-weight: bold\">• distilbert.transformer.layer.5.ffn.activation</span><span style=\"font-weight: bold\"> </span><span style=\"color: #7f7f7f; text-decoration-color: #7f7f7f\">  </span><span style=\"color: #008000; text-decoration-color: #008000\">128 MB</span>                                                      <span style=\"color: #000080; text-decoration-color: #000080\">│</span>\n",
       "<span style=\"color: #000080; text-decoration-color: #000080\">│</span> <span style=\"font-weight: bold\">  </span><span style=\"color: #008000; text-decoration-color: #008000; font-weight: bold\">• distilbert.transformer.layer.5.ffn.lin1</span><span style=\"font-weight: bold\">       </span><span style=\"color: #7f7f7f; text-decoration-color: #7f7f7f\">  </span><span style=\"color: #008000; text-decoration-color: #008000\">128 MB</span>                                                      <span style=\"color: #000080; text-decoration-color: #000080\">│</span>\n",
       "<span style=\"color: #000080; text-decoration-color: #000080\">│</span> <span style=\"font-weight: bold\">  </span><span style=\"color: #008000; text-decoration-color: #008000; font-weight: bold\">• distilbert.transformer.layer.4.ffn.activation</span><span style=\"font-weight: bold\"> </span><span style=\"color: #7f7f7f; text-decoration-color: #7f7f7f\">  </span><span style=\"color: #008000; text-decoration-color: #008000\">128 MB</span>                                                      <span style=\"color: #000080; text-decoration-color: #000080\">│</span>\n",
       "<span style=\"color: #000080; text-decoration-color: #000080\">╰─────────────────────────────────────────────────────────────────────────────────────────────────────────────────╯</span>\n",
       "</pre>\n"
      ]
     },
     "metadata": {},
     "output_type": "display_data"
    },
    {
     "data": {
      "text/plain": [
       "\u001B[34m╭─\u001B[0m\u001B[34m───────────────────────────────────────\u001B[0m\u001B[34m \u001B[0m\u001B[1;34mActivation & Gradient - Summary\u001B[0m\u001B[34m \u001B[0m\u001B[34m───────────────────────────────────────\u001B[0m\u001B[34m─╮\u001B[0m\n",
       "\u001B[34m│\u001B[0m \u001B[1;36mApprox ACTIVATION AVG\u001B[0m\u001B[1m \u001B[0m\u001B[2m|\u001B[0m\u001B[2m \u001B[0m\u001B[37m1.68 GB\u001B[0m                                                                                 \u001B[34m│\u001B[0m\n",
       "\u001B[34m│\u001B[0m \u001B[1;36mApprox ACTIVATION MAX\u001B[0m\u001B[1m \u001B[0m\u001B[2m|\u001B[0m\u001B[2m \u001B[0m\u001B[37m3.10 GB\u001B[0m                                                                                 \u001B[34m│\u001B[0m\n",
       "\u001B[34m│\u001B[0m \u001B[1;32mApprox GRADIENT AVG\u001B[0m\u001B[1m  \u001B[0m\u001B[1m \u001B[0m\u001B[2m|\u001B[0m\u001B[2m \u001B[0m\u001B[37m1.61 GB\u001B[0m                                                                                 \u001B[34m│\u001B[0m\n",
       "\u001B[34m│\u001B[0m \u001B[1;32mApprox GRADIENT MAX\u001B[0m\u001B[1m  \u001B[0m\u001B[1m \u001B[0m\u001B[2m|\u001B[0m\u001B[2m \u001B[0m\u001B[37m3.16 GB\u001B[0m                                                                                 \u001B[34m│\u001B[0m\n",
       "\u001B[34m╰─────────────────────────────────────────────────────────────────────────────────────────────────────────────────╯\u001B[0m\n"
      ],
      "text/html": [
       "<pre style=\"white-space:pre;overflow-x:auto;line-height:normal;font-family:Menlo,'DejaVu Sans Mono',consolas,'Courier New',monospace\"><span style=\"color: #000080; text-decoration-color: #000080\">╭──────────────────────────────────────── </span><span style=\"color: #000080; text-decoration-color: #000080; font-weight: bold\">Activation &amp; Gradient - Summary</span><span style=\"color: #000080; text-decoration-color: #000080\"> ────────────────────────────────────────╮</span>\n",
       "<span style=\"color: #000080; text-decoration-color: #000080\">│</span> <span style=\"color: #008080; text-decoration-color: #008080; font-weight: bold\">Approx ACTIVATION AVG</span><span style=\"font-weight: bold\"> </span><span style=\"color: #7f7f7f; text-decoration-color: #7f7f7f\">| </span><span style=\"color: #c0c0c0; text-decoration-color: #c0c0c0\">1.68 GB</span>                                                                                 <span style=\"color: #000080; text-decoration-color: #000080\">│</span>\n",
       "<span style=\"color: #000080; text-decoration-color: #000080\">│</span> <span style=\"color: #008080; text-decoration-color: #008080; font-weight: bold\">Approx ACTIVATION MAX</span><span style=\"font-weight: bold\"> </span><span style=\"color: #7f7f7f; text-decoration-color: #7f7f7f\">| </span><span style=\"color: #c0c0c0; text-decoration-color: #c0c0c0\">3.10 GB</span>                                                                                 <span style=\"color: #000080; text-decoration-color: #000080\">│</span>\n",
       "<span style=\"color: #000080; text-decoration-color: #000080\">│</span> <span style=\"color: #008000; text-decoration-color: #008000; font-weight: bold\">Approx GRADIENT AVG</span><span style=\"font-weight: bold\">   </span><span style=\"color: #7f7f7f; text-decoration-color: #7f7f7f\">| </span><span style=\"color: #c0c0c0; text-decoration-color: #c0c0c0\">1.61 GB</span>                                                                                 <span style=\"color: #000080; text-decoration-color: #000080\">│</span>\n",
       "<span style=\"color: #000080; text-decoration-color: #000080\">│</span> <span style=\"color: #008000; text-decoration-color: #008000; font-weight: bold\">Approx GRADIENT MAX</span><span style=\"font-weight: bold\">   </span><span style=\"color: #7f7f7f; text-decoration-color: #7f7f7f\">| </span><span style=\"color: #c0c0c0; text-decoration-color: #c0c0c0\">3.16 GB</span>                                                                                 <span style=\"color: #000080; text-decoration-color: #000080\">│</span>\n",
       "<span style=\"color: #000080; text-decoration-color: #000080\">╰─────────────────────────────────────────────────────────────────────────────────────────────────────────────────╯</span>\n",
       "</pre>\n"
      ]
     },
     "metadata": {},
     "output_type": "display_data"
    },
    {
     "data": {
      "text/plain": [
       "\u001B[34m╭─\u001B[0m\u001B[34m─────────────────────────────────────────────\u001B[0m\u001B[34m \u001B[0m\u001B[1;34mStep Timer Summary\u001B[0m\u001B[34m \u001B[0m\u001B[34m──────────────────────────────────────────────\u001B[0m\u001B[34m─╮\u001B[0m\n",
       "\u001B[34m│\u001B[0m \u001B[1;34m \u001B[0m\u001B[1;34mEvent           \u001B[0m\u001B[1;34m \u001B[0m\u001B[1;34m \u001B[0m\u001B[1;34mAvg (s)\u001B[0m\u001B[1;34m \u001B[0m\u001B[1;34m \u001B[0m\u001B[1;34mPeak (s)\u001B[0m\u001B[1;34m \u001B[0m                                                                           \u001B[34m│\u001B[0m\n",
       "\u001B[34m│\u001B[0m \u001B[36m \u001B[0m\u001B[1;36mdataloader_fetch\u001B[0m\u001B[36m \u001B[0m\u001B[37m \u001B[0m\u001B[37m 0.0041\u001B[0m\u001B[37m \u001B[0m\u001B[35m \u001B[0m\u001B[35m  0.0062\u001B[0m\u001B[35m \u001B[0m                                                                           \u001B[34m│\u001B[0m\n",
       "\u001B[34m│\u001B[0m \u001B[36m \u001B[0m\u001B[1;36mdata_loading\u001B[0m\u001B[36m    \u001B[0m\u001B[36m \u001B[0m\u001B[37m \u001B[0m\u001B[37m 0.0000\u001B[0m\u001B[37m \u001B[0m\u001B[35m \u001B[0m\u001B[35m  0.0001\u001B[0m\u001B[35m \u001B[0m                                                                           \u001B[34m│\u001B[0m\n",
       "\u001B[34m│\u001B[0m \u001B[36m \u001B[0m\u001B[1;36mforward\u001B[0m\u001B[36m         \u001B[0m\u001B[36m \u001B[0m\u001B[37m \u001B[0m\u001B[37m 2.9616\u001B[0m\u001B[37m \u001B[0m\u001B[35m \u001B[0m\u001B[35m  7.5963\u001B[0m\u001B[35m \u001B[0m                                                                           \u001B[34m│\u001B[0m\n",
       "\u001B[34m│\u001B[0m \u001B[36m \u001B[0m\u001B[1;36mbackward\u001B[0m\u001B[36m        \u001B[0m\u001B[36m \u001B[0m\u001B[37m \u001B[0m\u001B[37m 4.0527\u001B[0m\u001B[37m \u001B[0m\u001B[35m \u001B[0m\u001B[35m 10.1227\u001B[0m\u001B[35m \u001B[0m                                                                           \u001B[34m│\u001B[0m\n",
       "\u001B[34m│\u001B[0m \u001B[36m \u001B[0m\u001B[1;36moptimizer_step\u001B[0m\u001B[36m  \u001B[0m\u001B[36m \u001B[0m\u001B[37m \u001B[0m\u001B[37m 0.2114\u001B[0m\u001B[37m \u001B[0m\u001B[35m \u001B[0m\u001B[35m  0.3498\u001B[0m\u001B[35m \u001B[0m                                                                           \u001B[34m│\u001B[0m\n",
       "\u001B[34m╰─────────────────────────────────────────────────────────────────────────────────────────────────────────────────╯\u001B[0m\n"
      ],
      "text/html": [
       "<pre style=\"white-space:pre;overflow-x:auto;line-height:normal;font-family:Menlo,'DejaVu Sans Mono',consolas,'Courier New',monospace\"><span style=\"color: #000080; text-decoration-color: #000080\">╭────────────────────────────────────────────── </span><span style=\"color: #000080; text-decoration-color: #000080; font-weight: bold\">Step Timer Summary</span><span style=\"color: #000080; text-decoration-color: #000080\"> ───────────────────────────────────────────────╮</span>\n",
       "<span style=\"color: #000080; text-decoration-color: #000080\">│</span> <span style=\"color: #000080; text-decoration-color: #000080; font-weight: bold\"> Event             Avg (s)  Peak (s) </span>                                                                           <span style=\"color: #000080; text-decoration-color: #000080\">│</span>\n",
       "<span style=\"color: #000080; text-decoration-color: #000080\">│</span> <span style=\"color: #008080; text-decoration-color: #008080\"> </span><span style=\"color: #008080; text-decoration-color: #008080; font-weight: bold\">dataloader_fetch</span><span style=\"color: #008080; text-decoration-color: #008080\"> </span><span style=\"color: #c0c0c0; text-decoration-color: #c0c0c0\">  0.0041 </span><span style=\"color: #800080; text-decoration-color: #800080\">   0.0062 </span>                                                                           <span style=\"color: #000080; text-decoration-color: #000080\">│</span>\n",
       "<span style=\"color: #000080; text-decoration-color: #000080\">│</span> <span style=\"color: #008080; text-decoration-color: #008080\"> </span><span style=\"color: #008080; text-decoration-color: #008080; font-weight: bold\">data_loading</span><span style=\"color: #008080; text-decoration-color: #008080\">     </span><span style=\"color: #c0c0c0; text-decoration-color: #c0c0c0\">  0.0000 </span><span style=\"color: #800080; text-decoration-color: #800080\">   0.0001 </span>                                                                           <span style=\"color: #000080; text-decoration-color: #000080\">│</span>\n",
       "<span style=\"color: #000080; text-decoration-color: #000080\">│</span> <span style=\"color: #008080; text-decoration-color: #008080\"> </span><span style=\"color: #008080; text-decoration-color: #008080; font-weight: bold\">forward</span><span style=\"color: #008080; text-decoration-color: #008080\">          </span><span style=\"color: #c0c0c0; text-decoration-color: #c0c0c0\">  2.9616 </span><span style=\"color: #800080; text-decoration-color: #800080\">   7.5963 </span>                                                                           <span style=\"color: #000080; text-decoration-color: #000080\">│</span>\n",
       "<span style=\"color: #000080; text-decoration-color: #000080\">│</span> <span style=\"color: #008080; text-decoration-color: #008080\"> </span><span style=\"color: #008080; text-decoration-color: #008080; font-weight: bold\">backward</span><span style=\"color: #008080; text-decoration-color: #008080\">         </span><span style=\"color: #c0c0c0; text-decoration-color: #c0c0c0\">  4.0527 </span><span style=\"color: #800080; text-decoration-color: #800080\">  10.1227 </span>                                                                           <span style=\"color: #000080; text-decoration-color: #000080\">│</span>\n",
       "<span style=\"color: #000080; text-decoration-color: #000080\">│</span> <span style=\"color: #008080; text-decoration-color: #008080\"> </span><span style=\"color: #008080; text-decoration-color: #008080; font-weight: bold\">optimizer_step</span><span style=\"color: #008080; text-decoration-color: #008080\">   </span><span style=\"color: #c0c0c0; text-decoration-color: #c0c0c0\">  0.2114 </span><span style=\"color: #800080; text-decoration-color: #800080\">   0.3498 </span>                                                                           <span style=\"color: #000080; text-decoration-color: #000080\">│</span>\n",
       "<span style=\"color: #000080; text-decoration-color: #000080\">╰─────────────────────────────────────────────────────────────────────────────────────────────────────────────────╯</span>\n",
       "</pre>\n"
      ]
     },
     "metadata": {},
     "output_type": "display_data"
    }
   ],
   "execution_count": 6
  },
  {
   "metadata": {},
   "cell_type": "code",
   "outputs": [],
   "execution_count": null,
   "source": "",
   "id": "c5413d274bd784be"
  }
 ],
 "metadata": {
  "kernelspec": {
   "display_name": "Python 3",
   "language": "python",
   "name": "python3"
  },
  "language_info": {
   "codemirror_mode": {
    "name": "ipython",
    "version": 2
   },
   "file_extension": ".py",
   "mimetype": "text/x-python",
   "name": "python",
   "nbconvert_exporter": "python",
   "pygments_lexer": "ipython2",
   "version": "2.7.6"
  }
 },
 "nbformat": 4,
 "nbformat_minor": 5
}
